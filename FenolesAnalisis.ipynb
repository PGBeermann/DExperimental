{
  "nbformat": 4,
  "nbformat_minor": 0,
  "metadata": {
    "colab": {
      "name": "FenolesAnalisis.ipynb",
      "provenance": [],
      "collapsed_sections": [],
      "authorship_tag": "ABX9TyPq7FyxhSmcrC6TSx5NE+Rb",
      "include_colab_link": true
    },
    "kernelspec": {
      "name": "python3",
      "display_name": "Python 3"
    }
  },
  "cells": [
    {
      "cell_type": "markdown",
      "metadata": {
        "id": "view-in-github",
        "colab_type": "text"
      },
      "source": [
        "<a href=\"https://colab.research.google.com/github/PGBeermann/DExperimental/blob/main/FenolesAnalisis.ipynb\" target=\"_parent\"><img src=\"https://colab.research.google.com/assets/colab-badge.svg\" alt=\"Open In Colab\"/></a>"
      ]
    },
    {
      "cell_type": "markdown",
      "metadata": {
        "id": "sKhwPDY-C8gl"
      },
      "source": [
        "MODELO PARA LA DEGRADACION DE FENOLES EN MEDIO LIQUIDO"
      ]
    },
    {
      "cell_type": "code",
      "metadata": {
        "id": "nLzwyiF-yKKF"
      },
      "source": [
        "import numpy as np\r\n",
        "from numpy import diff\r\n",
        "from scipy.interpolate import interp1d\r\n",
        "import matplotlib.pyplot as plt\r\n",
        "from scipy.optimize import minimize\r\n",
        "from scipy.integrate import odeint"
      ],
      "execution_count": 1,
      "outputs": []
    },
    {
      "cell_type": "markdown",
      "metadata": {
        "id": "KaL_7wFTDnlt"
      },
      "source": [
        "DEFINICIÓN DE LAS FUNCIONES DEL MODELO\r\n",
        "\r\n",
        "A=concentracion de fenol en el filtrado\r\n",
        "\r\n",
        "B=concentración de fenol en la biomasa\r\n",
        "\r\n",
        "$B_m=k_6-k_5*\\exp(-k_7*(t-14.97)^2)$\r\n",
        "\r\n"
      ]
    },
    {
      "cell_type": "markdown",
      "metadata": {
        "id": "tj3v87FjXGrx"
      },
      "source": [
        "$\\mu=k_3*\\exp(-k_4*(t-7.5)^2)$\r\n",
        "\r\n",
        "aplicando las ecuaciones del equilibrio de adsorción y la cinética de degradación del fenol tenemos"
      ]
    },
    {
      "cell_type": "markdown",
      "metadata": {
        "id": "Iw_v6EPaYU1W"
      },
      "source": [
        "$\\frac{\\delta A}{\\delta t}=-k_a*A*(1-\\frac{B}{B_m})+k_d*\\frac{B}{B_m}$"
      ]
    },
    {
      "cell_type": "markdown",
      "metadata": {
        "id": "NDsqC8OfXmci"
      },
      "source": [
        "$\\frac{\\delta B}{\\delta t}=k_a*A*(1-\\frac{B}{B_m})-k_d*\\frac{B}{B_m}-\\mu*B$"
      ]
    },
    {
      "cell_type": "code",
      "metadata": {
        "id": "gCngiDk7yU5l"
      },
      "source": [
        "def f(C,t,ka,kd,k3,k4,k5,k6,k7):\r\n",
        "    A=C[0]     #Concentración de fenol en el filtrado\r\n",
        "    B=C[1]     #Concentración de fenol en la biomasa\r\n",
        "    \r\n",
        "    #MODELO CINÉTICO\r\n",
        "    \r\n",
        "    Bm=k6-k5*np.exp(-k7*(t-14.97)**2)        #función que simula el comportamiento de Bm(t)\r\n",
        "    \r\n",
        "    mu=k3*np.exp(-k4*(t-7.5)**2)             #función que simula el cambio de la pendiente de velocidad de la degradación de fenoles\r\n",
        "    \r\n",
        "    dBdt=ka*A*(1-B/Bm)-kd*B/Bm-mu*B\r\n",
        "    dAdt=-ka*A*(1-B/Bm)+kd*B/Bm\r\n",
        "         \r\n",
        "    return np.array([dAdt,dBdt])\r\n",
        "\r\n",
        "\r\n",
        "\r\n",
        "    #CÁLCULO DEL RESIDUAL\r\n",
        "def residual(XR):\r\n",
        "    X1=tuple(XR)\r\n",
        "    \r\n",
        "    y=odeint(f,C0,texp,args=X1)\r\n",
        "    \r\n",
        "    sum=np.sum((y[:,0]-filt)**2)+np.sum((y[:,1]-bio)**2)\r\n",
        "    \r\n",
        "  \r\n",
        "    return sum\r\n"
      ],
      "execution_count": 12,
      "outputs": []
    },
    {
      "cell_type": "markdown",
      "metadata": {
        "id": "ZzNLsboLZqkX"
      },
      "source": [
        "# Datos experimentales\r\n",
        "\r\n",
        "Se dividió las concentraciones entre 1000 para mejorar el desempeño del proceso de optimización"
      ]
    },
    {
      "cell_type": "code",
      "metadata": {
        "id": "hJKMMhGryarv"
      },
      "source": [
        "texp0=np.array([4,4,4,8,8,8,14,14,14,21,21,21,29,29,29])\r\n",
        "texp1=np.array([0,0,0,4,4,4,8,8,8,14,14,14,21,21,21,29,29,29])\r\n",
        "filt0=np.array([1920,1680,1888,1744,1552,1680,1600,1520,1552,1640,1440,1540,1240,1400,1320,1285,1300,1175])\r\n",
        "bio0=np.array([853.3466, 814.0853, 848.4916,806.66,836.66,859.99,769.99,769.99,773.33,413.33,420,356.66,683.33,729.99,663.33,779.99,783.33,729.99])\r\n",
        "\r\n",
        "filt0=filt0/1000\r\n",
        "bio0=bio0/1000\r\n",
        "tot0m=filt0+bio0"
      ],
      "execution_count": 3,
      "outputs": []
    },
    {
      "cell_type": "markdown",
      "metadata": {
        "id": "MNA_YkJOZ_2P"
      },
      "source": [
        "# Datos experimentales promedio\r\n",
        "\r\n",
        "Aquí se incluyen [Fenol] en el filtrado a t=0 y un valore de $[fenol]_{biomasa}$ a t=0 el cual se extrapoló con la linealización de la ecuación de Langmuir"
      ]
    },
    {
      "cell_type": "code",
      "metadata": {
        "id": "efK5kz4Qyk56"
      },
      "source": [
        "texp=np.array([0,4,8,14,21,29])\r\n",
        "filt=np.array([1829,1658.66,1557.33,1540.0,1320.0,1253.33])\r\n",
        "bio=np.array([839,834.44,771.10,396.66,692.22,764.44])\r\n",
        "\r\n",
        "\r\n",
        "filt=filt/1000\r\n",
        "bio=bio/1000\r\n",
        "total=filt+bio"
      ],
      "execution_count": 4,
      "outputs": []
    },
    {
      "cell_type": "markdown",
      "metadata": {
        "id": "vrFvgGWMajEF"
      },
      "source": [
        "# Optimización:\r\n",
        "\r\n",
        "Parámetros iniciales para la optimización del modelo "
      ]
    },
    {
      "cell_type": "code",
      "metadata": {
        "colab": {
          "base_uri": "https://localhost:8080/"
        },
        "id": "uK3hLR3oyr8c",
        "outputId": "c4598fa1-89c6-4321-cb3a-aaa9ee97f2b7"
      },
      "source": [
        "C0=np.array([1.829,0.839])\r\n",
        "\r\n",
        "X0=np.array([0.1,0.1,0.1,0.1,0.1,1.303,0.0483])\r\n",
        "bnds=((0,100.0),(0,100),(0,100.0),(0,100),(0,100),(0,100),(0,100))\r\n",
        "\r\n",
        "res = minimize(residual, X0, method='TNC', bounds=bnds, tol=1e-6,options={'maxiter':500,'disp':False})\r\n",
        "XX0=res.x\r\n",
        "print(\"RESULTADO DE LA OPTIMIZACIÓN\")\r\n",
        "print(XX0)  \r\n",
        "X1=tuple(XX0)\r\n",
        "res=residual(X1)\r\n",
        "print(\"Residual:\",res)"
      ],
      "execution_count": 13,
      "outputs": [
        {
          "output_type": "stream",
          "text": [
            "RESULTADO DE LA OPTIMIZACIÓN\n",
            "[0.4396472  0.33581303 0.08793823 0.02514136 0.68073704 1.25880794\n",
            " 0.05409665]\n",
            "Residual: 0.00915518790496757\n"
          ],
          "name": "stdout"
        }
      ]
    },
    {
      "cell_type": "markdown",
      "metadata": {
        "id": "zQY5T1J8Gqua"
      },
      "source": [
        "# Gráficos"
      ]
    },
    {
      "cell_type": "code",
      "metadata": {
        "colab": {
          "base_uri": "https://localhost:8080/",
          "height": 749
        },
        "id": "vJKmvQ7Xy-lY",
        "outputId": "90a5a65c-e5af-442d-b9cf-54fec2159ddd"
      },
      "source": [
        "tcalc=np.arange(0,29,0.1)  \r\n",
        "y=odeint(f,C0,tcalc,args=X1)\r\n",
        "ytotal=y[:,0]+y[:,1]    \r\n",
        "total=filt+bio\r\n",
        "fig, ax = plt.subplots(figsize=(8, 6))\r\n",
        "plt.scatter(texp,filt,s=6,c='orange')\r\n",
        "plt.scatter(texp,bio,s=6,c='black')\r\n",
        "plt.scatter(texp,total,s=6,c='black')\r\n",
        "\r\n",
        "plt.plot(tcalc,y[:,0],color=\"orange\",label='Filtrado')\r\n",
        "plt.plot(tcalc,y[:,1],color=\"black\",label='Biomasa')\r\n",
        "plt.plot(tcalc,ytotal,color=\"blue\",label='Total')\r\n",
        "plt.xlabel(\"t(dias)\")\r\n",
        "plt.ylabel(\"[Fenol] mg/L\")\r\n",
        "ax.set_ylim([0,3.0])\r\n",
        "\r\n",
        "#Datos experimentales incluyendo filt(t=0) exp y bio(t=0) extrapolado\r\n",
        "texp1=np.array([0,0,0,4,4,4,8,8,8,14,14,14,21,21,21,29,29,29])\r\n",
        "filt0=np.array([1920,1680,1888,1744,1552,1680,1600,1520,1552,1640,1440,1540,1240,1400,1320,1285,1300,1175])\r\n",
        "bio0=np.array([853.3466, 814.0853, 848.4916,806.66,836.66,859.99,769.99,769.99,773.33,413.33,420,356.66,683.33,729.99,663.33,779.99,783.33,729.99])\r\n",
        "\r\n",
        "filt0=filt0/1000\r\n",
        "bio0=bio0/1000\r\n",
        "tot0=filt0+bio0\r\n",
        "plt.scatter(texp1,filt0,s=20,c='orange')\r\n",
        "plt.scatter(texp1,bio0,s=20,c='black')\r\n",
        "plt.scatter(texp1,tot0,s=6,c='black')\r\n",
        "\r\n",
        "#Datos Promedio\r\n",
        "texp=np.array([0,4,8,14,21,29])\r\n",
        "filt=np.array([1829,1658.66,1557.33,1540.0,1320.0,1253.33])/1000\r\n",
        "bio=np.array([839,834.44,771.10,396.66,692.22,764.44])/1000\r\n",
        "tot=filt+bio\r\n",
        "plt.scatter(texp,tot,s=20.0,c='blue')\r\n",
        "\r\n",
        "plt.axvline(x=7.5,color=\"grey\", linestyle=\"--\")\r\n",
        "plt.annotate(\"vmax\", xy=(7.5, 2.3), xytext=(12, 2.7),arrowprops=dict(arrowstyle=\"->\"),fontsize=16)\r\n",
        "\r\n",
        "plt.grid(True)\r\n",
        "plt.legend()\r\n",
        "plt.show()\r\n",
        "\r\n",
        "fig, ax = plt.subplots(figsize=(8, 6))\r\n",
        "dx=0.1\r\n",
        "dy = diff(ytotal)/dx\r\n",
        "plt.plot(tcalc[0:-1],-dy,label=r'$\\frac{dTotal}{dt}$')\r\n",
        "plt.grid(True)\r\n",
        "plt.legend(fontsize=18)\r\n",
        "plt.show()"
      ],
      "execution_count": 16,
      "outputs": [
        {
          "output_type": "display_data",
          "data": {
            "image/png": "[encoded data removed]",
            "text/plain": [
              "<Figure size 576x432 with 1 Axes>"
            ]
          },
          "metadata": {
            "tags": [],
            "needs_background": "light"
          }
        },
        {
          "output_type": "display_data",
          "data": {
            "image/png": "[encoded data removed]",
            "text/plain": [
              "<Figure size 576x432 with 1 Axes>"
            ]
          },
          "metadata": {
            "tags": [],
            "needs_background": "light"
          }
        }
      ]
    },
    {
      "cell_type": "markdown",
      "metadata": {
        "id": "7MufV0RjG0cb"
      },
      "source": [
        "# ANALISIS DE LA OPTIMIZACIÓN\r\n",
        "\r\n",
        "1. Del gráfico para la degradación de fenoles totales podemos ver que la velocidad máxima se alcanza a los 7.0 dias (ver gráfico de $\\frac{dTotal}{dt}~~ vs~~ t$). Después del día 15 se hace imperceptible la actividad enzimática.\r\n",
        "2. Existe un equilibrio entre el fenol disuelto en el filtrado y el fenol adsorbido u ocluido en la biomasa, el cual sigue el comportamiento de la isoterma de Langmuir. \r\n",
        "3. Dado que entre los dias 8-21 se da una disminución en la biomasa por factores característicos del crecimiento de este tipo de hongos, el factor $B_m$, que corresponde a la capacidad de adsorción de la biomasa, disminuye durante este periodo. Se observa entonces una disminución de la concentración de fenoles adsorbidos y un aumento en la concentración de fenoles en el filtrado. \r\n",
        "4. Una vez se recupera la biomasa por crecimiento posterior, se observa nuevamente el aumento en la cantidad de fenoles adsorbidos por el aumento de $B_m$. \r\n",
        "5. Según los datos la biomasa que crece después del dia 15, parece no tener las propiedades enzimáticas para la degradación de fenoles que tenía la biomasa inicial, por lo que durante este periodo no se observa degradación de fenoles."
      ]
    },
    {
      "cell_type": "code",
      "metadata": {
        "colab": {
          "base_uri": "https://localhost:8080/",
          "height": 301
        },
        "id": "gk9ZvhrXUYQ8",
        "outputId": "e85a08d2-18bf-4143-885f-aa9848b42bf6"
      },
      "source": [
        "protCV=np.array([73.5,77.5,77.5,85.75,78.5,78.0,76.0,71.5,71.5,79.75,78.5,83.5,77.75,79.75,79.75])\r\n",
        "t=np.array([4,4,4,8,8,8,14,14,14,21,21,21,29,29,29])\r\n",
        "yy=1303.6-694.6*np.exp(-0.0483*(t-14.95)**2)\r\n",
        "plt.scatter(t,protCV*20)\r\n",
        "plt.plot(t,yy)\r\n",
        "\r\n",
        "np.corrcoef(yy,protCV)\r\n"
      ],
      "execution_count": 32,
      "outputs": [
        {
          "output_type": "execute_result",
          "data": {
            "text/plain": [
              "array([[1.       , 0.5899404],\n",
              "       [0.5899404, 1.       ]])"
            ]
          },
          "metadata": {
            "tags": []
          },
          "execution_count": 32
        },
        {
          "output_type": "display_data",
          "data": {
            "image/png": "[encoded data removed]",
            "text/plain": [
              "<Figure size 432x288 with 1 Axes>"
            ]
          },
          "metadata": {
            "tags": [],
            "needs_background": "light"
          }
        }
      ]
    },
    {
      "cell_type": "markdown",
      "metadata": {
        "id": "aRgmifftZgIx"
      },
      "source": [
        "6. Entre la proteína en la biomasa con vinaza y la concentración de fenoles adsorbidos existe un coeficiente de correlación de 0.5899404. La disminución de la capacidad de adsorción de la biomasa pude deberse, aparte de la disminución observada en la cantidad de proteína a otros factores como son cambios de pH, cambios en la estructura de la proteína que pueden causar la liberación de fenoles al medio sin la correspondiente disminución de la biomasa, entre otros factores."
      ]
    }
  ]
}